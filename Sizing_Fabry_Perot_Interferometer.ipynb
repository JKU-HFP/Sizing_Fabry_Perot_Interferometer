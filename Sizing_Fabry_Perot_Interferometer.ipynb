{
 "cells": [
  {
   "cell_type": "code",
   "execution_count": 1,
   "metadata": {},
   "outputs": [],
   "source": [
    "import numpy as np\n",
    "import matplotlib.pyplot as plt\n",
    "from scipy import constants\n",
    "from scipy.stats import cauchy\n",
    "from scipy import signal"
   ]
  },
  {
   "cell_type": "code",
   "execution_count": 2,
   "metadata": {},
   "outputs": [],
   "source": [
    "import warnings\n",
    "warnings.simplefilter(action='ignore', category=FutureWarning)"
   ]
  },
  {
   "cell_type": "markdown",
   "metadata": {},
   "source": [
    "# Sizing Fabry Perot Interferometer"
   ]
  },
  {
   "cell_type": "markdown",
   "metadata": {},
   "source": [
    "| Quantum dot emission            | Energy           | Frequency  |\n",
    "|----------------|------------------|-----------------------------|\n",
    "| Center         | (1.38 - 2.07) eV | (3.33 - 5.00) $10^{14}$ Hz  |\n",
    "| Spectral range | (100 - 500) µeV   | (24.20 - 120.90) $10^9$ Hz |"
   ]
  },
  {
   "cell_type": "markdown",
   "metadata": {},
   "source": [
    "ThorLab-mirrors are available with R = 93%, these should be a suitable starting point for the calculation:"
   ]
  },
  {
   "cell_type": "code",
   "execution_count": 3,
   "metadata": {},
   "outputs": [],
   "source": [
    "R_1 = R_2 = 0.93"
   ]
  },
  {
   "cell_type": "code",
   "execution_count": 4,
   "metadata": {},
   "outputs": [],
   "source": [
    "v_dot_spectral_range_lower = 24.20 * 10**9\n",
    "v_dot_spectral_range_upper = 120.90 * 10**9"
   ]
  },
  {
   "cell_type": "markdown",
   "metadata": {},
   "source": [
    "The free spectral range $\\Delta \\nu_{\\rm FSR}$ is given by\n",
    "$$\\Delta \\nu_{\\rm FSR} = \\frac{c}{2l}$$\n",
    "where $c$ is the speed of light in the medium and $l$ is geometrical length of the two mirror Fabry-Pérot."
   ]
  },
  {
   "cell_type": "markdown",
   "metadata": {},
   "source": [
    "The free spectral range $\\Delta \\nu_{\\rm FSR}$ of the Fabry-Perot needs to greater than the spectral range of the quantum dot emission.\n",
    "\n",
    "Therefore I assume two values for the two extremes of the spectral ranges of the dot with a buffer:"
   ]
  },
  {
   "cell_type": "code",
   "execution_count": 5,
   "metadata": {},
   "outputs": [
    {
     "name": "stdout",
     "output_type": "stream",
     "text": [
      "l_lower = 0.62 mm\n",
      "l_upper = 0.12 mm\n"
     ]
    }
   ],
   "source": [
    "buffer = 10\n",
    "delta_v_FSR_lower = v_dot_spectral_range_lower * buffer\n",
    "delta_v_FSR_upper = v_dot_spectral_range_upper * buffer\n",
    "\n",
    "l_lower = constants.c / (2 * delta_v_FSR_lower)\n",
    "l_upper = constants.c / (2 * delta_v_FSR_upper)\n",
    "\n",
    "print(f\"l_lower = {l_lower * 10**3:.02f} mm\")\n",
    "print(f\"l_upper = {l_upper * 10**3:.02f} mm\")"
   ]
  },
  {
   "cell_type": "markdown",
   "metadata": {},
   "source": [
    " The FWHM linewidth $\\Delta \\nu_{\\rm Airy}$ of the Airy distribution is given by\n",
    "\n",
    "$$\\Delta \\nu_{\\rm Airy} = \\Delta \\nu_{\\rm FSR} \\frac{2}{\\pi} \\arcsin \\left( \\frac{1 - \\sqrt{R_1 R_2}}{2 \\sqrt[4]{R_1 R_2}} \\right)$$"
   ]
  },
  {
   "cell_type": "code",
   "execution_count": 6,
   "metadata": {},
   "outputs": [],
   "source": [
    "def calc_delta_v_Airy(delta_v_FSR, R_1, R_2):\n",
    "    return delta_v_FSR * 2 / np.pi * np.arcsin((1-np.sqrt(R_1*R_2))/(2*(R_1 * R_2)**(1/4)))"
   ]
  },
  {
   "cell_type": "code",
   "execution_count": 7,
   "metadata": {},
   "outputs": [
    {
     "name": "stdout",
     "output_type": "stream",
     "text": [
      "delta_E_Airy_lower = 23.13 µeV\n",
      "delta_E_Airy_upper = 115.55 µeV\n"
     ]
    }
   ],
   "source": [
    "delta_v_Airy_lower = calc_delta_v_Airy(delta_v_FSR_lower, R_1, R_2)\n",
    "delta_v_Airy_upper = calc_delta_v_Airy(delta_v_FSR_upper, R_1, R_2)\n",
    "\n",
    "print(f\"delta_E_Airy_lower = {delta_v_Airy_lower * constants.h / constants.e * 10**6:.02f} µeV\")\n",
    "print(f\"delta_E_Airy_upper = {delta_v_Airy_upper * constants.h / constants.e * 10**6:.02f} µeV\")"
   ]
  },
  {
   "cell_type": "markdown",
   "metadata": {},
   "source": [
    "$$A'_{trans}(\\nu)=\\frac{(1-R_1)(1-R_2)}{(1-\\sqrt{R_1R_2})^2+4\\sqrt{R_1R_2}\\sin^2(\\phi)}$$\n",
    "\n",
    "with\n",
    "\n",
    "$$\\phi(\\nu)=\\frac{\\pi\\nu}{\\Delta \\nu_{FSR}}$$"
   ]
  },
  {
   "cell_type": "code",
   "execution_count": 8,
   "metadata": {},
   "outputs": [],
   "source": [
    "def delta_v_FSR(l):\n",
    "    return constants.c / (2*l)\n",
    "\n",
    "\n",
    "def phi(v, l):\n",
    "    return constants.pi * v / delta_v_FSR(l)\n",
    "\n",
    "\n",
    "def A_prime_trans(v, R_1, R_2, l):\n",
    "    return (1-R_1) * (1-R_2) / ((1-np.sqrt(R_1*R_2))**2+4*np.sqrt(R_1*R_2)*np.sin(phi(v,l))**2)"
   ]
  },
  {
   "cell_type": "markdown",
   "metadata": {},
   "source": [
    "### Goal:\n",
    "Resolve QDs with paramters seen in table at the top.\n",
    "\n",
    "Describe dot spectrum with cauchy distribution.\n",
    "\n",
    "$$\\Phi_{dot}(\\nu) = \\frac{1}{\\pi \\cdot v\\_dot\\_spectral\\_range \\cdot 0.5 \\left[1+\\left(\\frac{\\nu - \\nu\\_dot\\_center}{v\\_dot\\_spectral\\_range \\cdot 0.5}\\right)^2\\right]}$$"
   ]
  },
  {
   "cell_type": "code",
   "execution_count": 9,
   "metadata": {},
   "outputs": [],
   "source": [
    "def dot_spectrum(v, v_dot_center, v_dot_spectral_range):\n",
    "    return cauchy.pdf(v, loc=v_dot_center, scale=v_dot_spectral_range * 0.5)"
   ]
  },
  {
   "cell_type": "code",
   "execution_count": 10,
   "metadata": {},
   "outputs": [],
   "source": [
    "v_dot_center = 4 * 10**14 # in Hz\n",
    "number_of_points = 4000\n",
    "number_of_airy_peaks = 4\n",
    "\n",
    "v_boundaries_lower = (v_dot_center - delta_v_FSR(l_lower)*number_of_airy_peaks/2, v_dot_center + delta_v_FSR(l_lower)*number_of_airy_peaks/2)\n",
    "v_boundaries_upper = (v_dot_center - delta_v_FSR(l_upper)*number_of_airy_peaks/2, v_dot_center + delta_v_FSR(l_upper)*number_of_airy_peaks/2)"
   ]
  },
  {
   "cell_type": "code",
   "execution_count": null,
   "metadata": {},
   "outputs": [],
   "source": [
    "fig, (ax1_lower, ax1_upper) = plt.subplots(1, 2)\n",
    "fig.set_size_inches(18, 6)\n",
    "\n",
    "V_lower = np.linspace(*v_boundaries_lower, number_of_points)\n",
    "\n",
    "ax1_lower.plot(V_lower, A_prime_trans(V_lower, R_1, R_2, l_lower), \"b\", label=\"Transmission Fabry Perot\")\n",
    "ax1_lower.set_xlim(v_boundaries_upper)\n",
    "ax1_lower.set_xlabel(r\"$\\nu$ (Hz)\")\n",
    "ax1_lower.set_ylabel(\"Transmission response function\", color=\"b\")\n",
    "ax1_lower.tick_params(\"y\", colors=\"b\")\n",
    "ax1_lower.set_title(f\"Lower end of the width of the emission spectrum \\n l_lower = {l_lower * 10**3:.02f} mm\")\n",
    "\n",
    "ax2_lower = ax1_lower.twinx()\n",
    "ax2_lower.plot(V_lower, dot_spectrum(V_lower, v_dot_center, v_dot_spectral_range_lower), \"r\", label=r\"$\\Phi_{dot}(\\nu)$\")\n",
    "ax2_lower.set_ylabel(\"Dot emission\", color=\"r\")\n",
    "ax2_lower.tick_params(\"y\", colors=\"r\")\n",
    "\n",
    "V_upper = np.linspace(*v_boundaries_upper, number_of_points)\n",
    "\n",
    "ax1_upper.plot(V_upper, A_prime_trans(V_upper, R_1, R_2, l_upper), \"b\", label=\"Transmission Fabry Perot\")\n",
    "ax1_upper.set_xlim(v_boundaries_upper)\n",
    "ax1_upper.set_xlabel(r\"$\\nu$ (Hz)\")\n",
    "ax1_upper.set_ylabel(\"Transmission response function\", color=\"b\")\n",
    "ax1_upper.tick_params(\"y\", colors=\"b\")\n",
    "ax1_upper.set_title(f\"Upper end of width of the emission spectrum \\n l_upper = {l_upper * 10**3:.02f} mm\")\n",
    "\n",
    "ax2_upper = ax1_upper.twinx()\n",
    "ax2_upper.plot(V_upper, dot_spectrum(V_upper, v_dot_center, v_dot_spectral_range_upper), \"r\", label=r\"$\\Phi_{dot}(\\nu)$\")\n",
    "ax2_upper.set_ylabel(\"Dot emission\", color=\"r\")\n",
    "ax2_upper.tick_params(\"y\", colors=\"r\")\n"
   ]
  },
  {
   "cell_type": "markdown",
   "metadata": {},
   "source": [
    "The output-photon-flux of the scanning Fabry-Perot-interferometer is described with the convolution of the emission of the QD $E_{dot}(\\nu)$ and the transmission of the Fabry-perot $A'_{trans}(\\nu)$.\n",
    "\n",
    "$$\\Phi_{fabry,perot, unnormalized} = \\int^{v\\_dot\\_center + \\Delta \\nu_{FSR} \\cdot number\\_of\\_airy\\_peaks}_{v\\_dot\\_center - \\Delta \\nu_{FSR} \\cdot number\\_of\\_airy\\_peaks} d\\nu' E_{dot}(\\nu')A'_{trans}(\\nu - \\nu')$$\n",
    "\n",
    "it can then be normalized with the integral of $A'_{trans}(\\nu)$ over one period:\n",
    "\n",
    "$$normalization\\_factor = \\int^{v\\_dot\\_center + \\Delta \\nu_{FSR} \\cdot number\\_of\\_airy\\_peaks \\cdot 0.5}_{v\\_dot\\_center - \\Delta \\nu_{FSR} \\cdot number\\_of\\_airy\\_peaks \\cdot 0.5} d\\nu A'_{trans}(\\nu) = \\frac{\\sum A'_{trans}(\\nu)}{number\\_of\\_airy\\_peaks} $$\n",
    "\n",
    "Therefore the output-photon-flux of the scanning Fabry-Perot-interferometer is:\n",
    "$$\\Rightarrow \\Phi_{fabry,perot} = \\frac{\\Phi_{fabry,perot, unnormalized}}{normalization\\_factor}$$"
   ]
  },
  {
   "cell_type": "code",
   "execution_count": null,
   "metadata": {},
   "outputs": [],
   "source": [
    "def calc_phi_fabry_perot(V, v_dot_center, v_dot_spectral_range, R_1, R_2, l, number_of_airy_peaks):\n",
    "    phi_fabry_perot_unnormalized = signal.convolve(dot_spectrum(V, v_dot_center, v_dot_spectral_range), A_prime_trans(V, R_1, R_2, l))\n",
    "    normalization_factor = sum(A_prime_trans(V, R_1, R_2, l)) / number_of_airy_peaks\n",
    "    phi_fabry_perot = phi_fabry_perot_unnormalized / normalization_factor\n",
    "\n",
    "    v_conv_boundaries = (v_dot_center - delta_v_FSR(l)*number_of_airy_peaks, v_dot_center + delta_v_FSR(l)*number_of_airy_peaks)\n",
    "    V_2 = np.linspace(*v_conv_boundaries, number_of_points*2-1)\n",
    "    \n",
    "    return  V_2, phi_fabry_perot"
   ]
  },
  {
   "cell_type": "code",
   "execution_count": null,
   "metadata": {},
   "outputs": [],
   "source": [
    "V_2_lower, phi_fabry_perot_lower = calc_phi_fabry_perot(V_lower, v_dot_center, v_dot_spectral_range_lower, R_1, R_2, l_lower, number_of_airy_peaks)\n",
    "V_2_upper, phi_fabry_perot_upper = calc_phi_fabry_perot(V_upper, v_dot_center, v_dot_spectral_range_upper, R_1, R_2, l_upper, number_of_airy_peaks)"
   ]
  },
  {
   "cell_type": "code",
   "execution_count": null,
   "metadata": {},
   "outputs": [],
   "source": [
    "plt.figure(figsize=(18, 6))\n",
    "\n",
    "plt.subplot(1, 2, 1)\n",
    "plt.plot(V_2_lower, phi_fabry_perot_lower, \"b\", label=r\"$\\Phi_{fabry,perot}(\\nu)$\")\n",
    "plt.plot(V_lower, dot_spectrum(V_lower, v_dot_center, v_dot_spectral_range_lower), \"r\" , label=r\"$\\Phi_{dot}(\\nu)$\")\n",
    "plt.xlabel(r\"$\\nu$ (Hz)\")\n",
    "plt.xlim(v_boundaries_upper)\n",
    "plt.legend(fontsize=15)\n",
    "plt.title(f\"Lower end of the width of the emission spectrum \\n l_lower = {l_lower * 10**3:.02f} mm\")\n",
    "\n",
    "plt.subplot(1, 2, 2)\n",
    "plt.plot(V_2_upper, phi_fabry_perot_upper, \"b\", label=r\"$\\Phi_{fabry,perot}(\\nu)$\")\n",
    "plt.plot(V_upper, dot_spectrum(V_upper, v_dot_center, v_dot_spectral_range_upper), \"r\" , label=r\"$\\Phi_{dot}(\\nu)$\")\n",
    "plt.xlabel(r\"$\\nu$ (Hz)\")\n",
    "plt.xlim(v_boundaries_upper)\n",
    "plt.legend(fontsize=15)\n",
    "plt.title(f\"Upper end of width of the emission spectrum \\n l_upper = {l_upper * 10**3:.02f} mm\")\n",
    "\n",
    "plt.show()"
   ]
  },
  {
   "cell_type": "markdown",
   "metadata": {},
   "source": [
    "To better compare $\\Phi_{dot}(\\nu)$ and $\\Phi_{fabry,perot}$, we need to shift them relative to each other:"
   ]
  },
  {
   "cell_type": "code",
   "execution_count": null,
   "metadata": {},
   "outputs": [],
   "source": [
    "def shift_phi_fabry_perot(phi_fabry_perot, V, V_2, v_dot_center, v_dot_spectral_range):\n",
    "    position_dot_peak = signal.find_peaks(dot_spectrum(V, v_dot_center, v_dot_spectral_range))[0][0]\n",
    "    index_V_2_position_dot_peak = (np.abs(V_2 - V[position_dot_peak])).argmin()\n",
    "    position_airy_peaks = signal.find_peaks(phi_fabry_perot)[0]\n",
    "    index_airy_peaks = (np.abs(V_2[position_airy_peaks] - V[position_dot_peak])).argmin()\n",
    "    phi_fabry_perot_shifted = np.roll(phi_fabry_perot, index_V_2_position_dot_peak - position_airy_peaks[index_airy_peaks])\n",
    "    return phi_fabry_perot_shifted"
   ]
  },
  {
   "cell_type": "code",
   "execution_count": null,
   "metadata": {},
   "outputs": [],
   "source": [
    "phi_fabry_perot_shifted_lower = shift_phi_fabry_perot(phi_fabry_perot_lower, V_lower, V_2_lower, v_dot_center, v_dot_spectral_range_lower)\n",
    "phi_fabry_perot_shifted_upper = shift_phi_fabry_perot(phi_fabry_perot_upper, V_upper, V_2_upper, v_dot_center, v_dot_spectral_range_upper)"
   ]
  },
  {
   "cell_type": "code",
   "execution_count": null,
   "metadata": {},
   "outputs": [],
   "source": [
    "plt.figure(figsize=(18, 6))\n",
    "\n",
    "plt.subplot(1, 2, 1)\n",
    "plt.plot(V_2_lower, phi_fabry_perot_shifted_lower, \"b\", label=r\"$\\Phi_{fabry,perot}(\\nu)$\")\n",
    "plt.plot(V_lower, dot_spectrum(V_lower, v_dot_center, v_dot_spectral_range_lower), \"r\" , label=r\"$\\Phi_{dot}(\\nu)$\")\n",
    "plt.xlabel(r\"$\\nu$ (Hz)\")\n",
    "plt.xlim(v_boundaries_upper)\n",
    "plt.legend(fontsize=15)\n",
    "plt.title(f\"Lower end of the width of the emission spectrum \\n l_lower = {l_lower * 10**3:.02f} mm\")\n",
    "\n",
    "plt.subplot(1, 2, 2)\n",
    "plt.plot(V_2_upper, phi_fabry_perot_shifted_upper, \"b\", label=r\"$\\Phi_{fabry,perot}(\\nu)$\")\n",
    "plt.plot(V_upper, dot_spectrum(V_upper, v_dot_center, v_dot_spectral_range_upper), \"r\" , label=r\"$\\Phi_{dot}(\\nu)$\")\n",
    "plt.xlabel(r\"$\\nu$ (Hz)\")\n",
    "plt.xlim(v_boundaries_upper)\n",
    "plt.legend(fontsize=15)\n",
    "\n",
    "plt.show()"
   ]
  },
  {
   "cell_type": "markdown",
   "metadata": {},
   "source": [
    "## Calculating Error:\n",
    "\n",
    "$$ Error = \\frac{\\int^{v\\_dot\\_center + \\Delta \\nu_{FSR} \\cdot 0.5}_{v\\_dot\\_center - \\Delta \\nu_{FSR} \\cdot 0.5} \\left|\\Phi_{\\text{fabry,perot,shifted}}(\\nu) - \\Phi_{\\text{dot}}(\\nu)\\right| d \\nu }{\\int^{v\\_dot\\_center + \\Delta \\nu_{FSR} \\cdot 0.5}_{v\\_dot\\_center - \\Delta \\nu_{FSR} \\cdot 0.5} \\Phi_{\\text{dot}}(\\nu) d \\nu}$$"
   ]
  },
  {
   "cell_type": "code",
   "execution_count": null,
   "metadata": {},
   "outputs": [],
   "source": [
    "signal.find_peaks(phi_fabry_perot_shifted_lower)"
   ]
  },
  {
   "cell_type": "code",
   "execution_count": null,
   "metadata": {},
   "outputs": [],
   "source": []
  }
 ],
 "metadata": {
  "kernelspec": {
   "display_name": "Python 3",
   "language": "python",
   "name": "python3"
  },
  "language_info": {
   "codemirror_mode": {
    "name": "ipython",
    "version": 3
   },
   "file_extension": ".py",
   "mimetype": "text/x-python",
   "name": "python",
   "nbconvert_exporter": "python",
   "pygments_lexer": "ipython3",
   "version": "3.7.0"
  }
 },
 "nbformat": 4,
 "nbformat_minor": 2
}
