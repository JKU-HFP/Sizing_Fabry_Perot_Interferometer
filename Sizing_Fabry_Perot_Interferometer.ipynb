{
 "cells": [
  {
   "cell_type": "code",
   "execution_count": 120,
   "metadata": {},
   "outputs": [],
   "source": [
    "import numpy as np\n",
    "import matplotlib.pyplot as plt\n",
    "from scipy import constants\n",
    "from scipy.stats import cauchy, norm\n",
    "from scipy import signal\n",
    "from pathlib import Path"
   ]
  },
  {
   "cell_type": "markdown",
   "metadata": {},
   "source": [
    "Disable \"FutureWarning\""
   ]
  },
  {
   "cell_type": "code",
   "execution_count": 89,
   "metadata": {},
   "outputs": [],
   "source": [
    "import warnings\n",
    "warnings.simplefilter(action='ignore', category=FutureWarning)"
   ]
  },
  {
   "cell_type": "markdown",
   "metadata": {},
   "source": [
    "Define figure path:"
   ]
  },
  {
   "cell_type": "code",
   "execution_count": 90,
   "metadata": {},
   "outputs": [],
   "source": [
    "FIGURE_PATH = Path(\"../../Masterthesis/figures/plots/fabry-perot\")"
   ]
  },
  {
   "cell_type": "markdown",
   "metadata": {},
   "source": [
    "Change resolution of plots so that they don't appear super small:\n",
    "https://stackoverflow.com/a/55289762/11038610"
   ]
  },
  {
   "cell_type": "markdown",
   "metadata": {},
   "source": [
    "Globally change settings of matplotlib-Plots."
   ]
  },
  {
   "cell_type": "code",
   "execution_count": 91,
   "metadata": {},
   "outputs": [],
   "source": [
    "plt.rcParams.update({\n",
    "    'font.size': 7,\n",
    "    'figure.dpi': 200,\n",
    "    'figure.figsize': (6.2, 2.2),\n",
    "    'lines.linewidth': 0.5,    \n",
    "})"
   ]
  },
  {
   "cell_type": "markdown",
   "metadata": {},
   "source": [
    "# Sizing Fabry Perot Interferometer"
   ]
  },
  {
   "cell_type": "markdown",
   "metadata": {},
   "source": [
    "### Calculate spectral range from zero-phonon line\n",
    "Lifetime of our QDs is $\\Delta t$ = 250 ps.\n",
    "\n",
    "$\\Delta E \\cdot \\Delta t = \\frac{h}{2\\pi}$\n",
    "\n",
    "$\\Rightarrow\\Delta E = 2.63 \\mu$eV\n",
    "\n",
    "you get $f$ through\n",
    "\n",
    "$\\Delta f = \\frac{\\Delta E}{h}$\n",
    "\n",
    "For $\\Delta \\lambda$ we have to develop into a taylor series:\n",
    "\n",
    "$\\lambda = \\frac{c}{f}$\n",
    "\n",
    "$\\Rightarrow \\lambda(f) \\approx \\lambda(f_0) + \\lambda'(f_0) \\cdot (f - f_0)$\n",
    "\n",
    "$\\Delta \\lambda = \\lambda(f_0 - \\Delta f) - \\lambda(f_0) = \\lambda(f_0) - \\lambda'(f_0)\\cdot\\Delta f - \\lambda(f_0) = - \\lambda'(f_0)\\cdot \\Delta f$\n",
    "\n",
    "$\\Rightarrow \\Delta \\lambda = \\frac{c}{f_0^2} \\cdot \\Delta f = \\frac{\\lambda_0^2}{c}\\cdot\\Delta f$"
   ]
  },
  {
   "cell_type": "markdown",
   "metadata": {},
   "source": [
    "| Quantum dot emission | Center wavelength $\\lambda_0$         | Spectral range $\\Delta \\lambda$ | Waveform |\n",
    "|----------------------|---------------------------------------|---------------------------------|----------|\n",
    "| Zero-phonon line     | (700 - 800) nm                        | (1.0 - 1.4) pm                  | Cauchy   |\n",
    "| Phonon sideband      | ~0.25 nm higher than zero-phonon line | ~500 pm                         | Gauss    |"
   ]
  },
  {
   "cell_type": "code",
   "execution_count": 92,
   "metadata": {},
   "outputs": [],
   "source": [
    "lambda_dot_center_zero = 788.75e-9\n",
    "lambda_dot_spectral_range_zero = 1.4e-12\n",
    "lambda_dot_center_side = 789e-9\n",
    "lambda_dot_spectral_range_side = 500e-12"
   ]
  },
  {
   "cell_type": "markdown",
   "metadata": {},
   "source": [
    "Spectral range of dot in eV"
   ]
  },
  {
   "cell_type": "code",
   "execution_count": 93,
   "metadata": {},
   "outputs": [],
   "source": [
    "def convert_lambda_to_E(lambda_):\n",
    "    return constants.c * constants.h / (lambda_ * constants.e)"
   ]
  },
  {
   "cell_type": "code",
   "execution_count": 94,
   "metadata": {},
   "outputs": [],
   "source": [
    "E_dot_center_zero = convert_lambda_to_E(lambda_dot_center_zero)\n",
    "E_dot_spectral_range_zero = 2.63e-6 # eV\n",
    "E_dot_center_side = convert_lambda_to_E(lambda_dot_center_side)\n",
    "E_dot_spectral_range_side = constants.c / lambda_dot_center_side**2 *constants.h / constants.e * lambda_dot_spectral_range_side"
   ]
  },
  {
   "cell_type": "markdown",
   "metadata": {},
   "source": [
    "### Goal:\n",
    "Resolve QDs with parameters seen in table above\n",
    "\n",
    "Describe zero-phonon line with cauchy distribution:\n",
    "\n",
    "$$\\Phi_{dot,zerophononline}(\\lambda) = \\frac{1}{\\pi \\cdot zero\\_spectral\\_range \\cdot 0.5 \\left[1+\\left(\\frac{\\lambda - zero\\_center}{zero\\_spectral\\_range \\cdot 0.5}\\right)^2\\right]}$$"
   ]
  },
  {
   "cell_type": "code",
   "execution_count": 95,
   "metadata": {},
   "outputs": [],
   "source": [
    "def calc_phi_dot_zerophononline(lambda_, lambda_dot_center, lambda_dot_spectral_range):\n",
    "    return cauchy.pdf(lambda_, loc=lambda_dot_center, scale=lambda_dot_spectral_range * 0.5)"
   ]
  },
  {
   "cell_type": "markdown",
   "metadata": {},
   "source": [
    "Describe phonon side band with gauss distribution:\n",
    "\n",
    "$$\\Phi_{dot,phononsideband}(\\lambda) = \\frac{1}{\\sqrt{2\\cdot\\pi\\cdot side\\_spectral\\_range^2}}\\cdot exp\\left(-\\frac{(\\lambda - side\\_center)^2}{2\\cdot side\\_spectral\\_range^2}\\right)$$"
   ]
  },
  {
   "cell_type": "code",
   "execution_count": 96,
   "metadata": {},
   "outputs": [],
   "source": [
    "def calc_phi_dot_phononsideband(lambda_, lambda_dot_center, lambda_dot_spectral_range):\n",
    "    return norm.pdf(lambda_, loc=lambda_dot_center, scale=lambda_dot_spectral_range * 0.5)"
   ]
  },
  {
   "cell_type": "markdown",
   "metadata": {},
   "source": [
    "Resulting dot emission:\n",
    "$$\\Phi_{dot}(\\lambda) = \\Phi_{dot,zerophononline}(\\lambda) + \\Phi_{dot,phononsideband}(\\lambda)$$\n"
   ]
  },
  {
   "cell_type": "code",
   "execution_count": 97,
   "metadata": {},
   "outputs": [],
   "source": [
    "def calc_phi_dot_lambda(lambda_, lambda_dot_center_zero, lambda_dot_spectral_range_zero, lambda_dot_center_side, lambda_dot_spectral_range_side):   \n",
    "    return 10**2 * calc_phi_dot_zerophononline(lambda_, lambda_dot_center_zero, lambda_dot_spectral_range_zero) + calc_phi_dot_phononsideband(lambda_, lambda_dot_center_side, lambda_dot_spectral_range_side)"
   ]
  },
  {
   "cell_type": "markdown",
   "metadata": {},
   "source": [
    "Calculate dot emission dependent on the energy in eV:"
   ]
  },
  {
   "cell_type": "code",
   "execution_count": 98,
   "metadata": {},
   "outputs": [],
   "source": [
    "def convert_E_to_lambda(E_eV):\n",
    "    return constants.c * constants.h / (E_eV * constants.e)"
   ]
  },
  {
   "cell_type": "code",
   "execution_count": 99,
   "metadata": {},
   "outputs": [],
   "source": [
    "def calc_phi_dot_E(E, lambda_dot_center_zero, lambda_dot_spectral_range_zero, lambda_dot_center_side, lambda_dot_spectral_range_side):        \n",
    "    lambda_ = convert_E_to_lambda(E)\n",
    "    return calc_phi_dot_lambda(lambda_, lambda_dot_center_zero, lambda_dot_spectral_range_zero, lambda_dot_center_side, lambda_dot_spectral_range_side)"
   ]
  },
  {
   "cell_type": "markdown",
   "metadata": {},
   "source": [
    "Plot dot emission dependent on wavelength and energy:"
   ]
  },
  {
   "cell_type": "code",
   "execution_count": 100,
   "metadata": {},
   "outputs": [
    {
     "data": {
      "image/png": "[encoded data removed]",
      "text/plain": [
       "<Figure size 1240x440 with 2 Axes>"
      ]
     },
     "metadata": {
      "needs_background": "light"
     },
     "output_type": "display_data"
    }
   ],
   "source": [
    "lambda_ = np.linspace(787.75e-9, 789.75e-9, 500)\n",
    "phi_dot_lambda = calc_phi_dot_lambda(lambda_, lambda_dot_center_zero, lambda_dot_spectral_range_zero, lambda_dot_center_side, lambda_dot_spectral_range_side) \n",
    "\n",
    "plt.subplot(1, 2, 1)\n",
    "plt.semilogy(lambda_*10**9, phi_dot_lambda)\n",
    "plt.xlabel(r\"$\\lambda$ (nm)\")\n",
    "plt.ylabel(r\"Intensity (arb. units)\")\n",
    "plt.ylim(10**7,10**13)\n",
    "\n",
    "\n",
    "E = np.linspace(1.5699, 1.5739, 500)\n",
    "phi_dot_E = calc_phi_dot_E(E, lambda_dot_center_zero, lambda_dot_spectral_range_zero, lambda_dot_center_side, lambda_dot_spectral_range_side) \n",
    "\n",
    "plt.subplot(1, 2, 2)\n",
    "plt.semilogy(E, phi_dot_E)\n",
    "plt.xlabel(r\"$E$ (eV)\")\n",
    "plt.ylabel(r\"Intensity (arb. units)\")\n",
    "plt.ylim(10**7,10**13)\n",
    "\n",
    "plt.tight_layout()\n",
    "plt.savefig(FIGURE_PATH / \"quantum_dot_emission_wavelength_energy.pdf\")\n",
    "plt.show()"
   ]
  },
  {
   "cell_type": "markdown",
   "metadata": {},
   "source": [
    "Convert between eV$\\leftrightarrow$Hz:\n",
    "\n",
    "$$ 1~Hz = 1~eV \\cdot \\frac{h}{e}$$"
   ]
  },
  {
   "cell_type": "code",
   "execution_count": 101,
   "metadata": {},
   "outputs": [],
   "source": [
    "def convert_Hz_to_eV(v_Hz):\n",
    "    return v_Hz * constants.h / constants.e\n",
    "\n",
    "def convert_eV_to_Hz(E_eV):\n",
    "    return E_eV * constants.e / constants.h"
   ]
  },
  {
   "cell_type": "markdown",
   "metadata": {},
   "source": [
    "Reflectivity of our mirrors."
   ]
  },
  {
   "cell_type": "code",
   "execution_count": 102,
   "metadata": {},
   "outputs": [],
   "source": [
    "R_1 = R_2 = 0.97"
   ]
  },
  {
   "cell_type": "code",
   "execution_count": 103,
   "metadata": {},
   "outputs": [],
   "source": [
    "v_dot_spectral_range_zero = convert_eV_to_Hz(E_dot_spectral_range_zero)\n",
    "v_dot_spectral_range_side = convert_eV_to_Hz(E_dot_spectral_range_side)"
   ]
  },
  {
   "cell_type": "markdown",
   "metadata": {},
   "source": [
    "The free spectral range $\\Delta \\nu_{\\rm FSR}$ is given by\n",
    "$$\\Delta \\nu_{\\rm FSR} = \\frac{c}{2l}$$\n",
    "where $c$ is the speed of light in the medium and $l$ is geometrical length of the two mirror Fabry-Pérot."
   ]
  },
  {
   "cell_type": "markdown",
   "metadata": {},
   "source": [
    "The free spectral range $\\Delta \\nu_{\\rm FSR}$ of the Fabry-Perot needs to greater than the spectral range of the quantum dot emission.\n",
    "\n",
    "Therefore I assume two values for the two extremes of the spectral ranges of the dot with a buffer:"
   ]
  },
  {
   "cell_type": "code",
   "execution_count": 104,
   "metadata": {},
   "outputs": [],
   "source": [
    "def calc_v_FSR_l(v_dot_spectral_range, buffer):\n",
    "    delta_v_FSR = v_dot_spectral_range * buffer\n",
    "    l = constants.c / (2 * delta_v_FSR)\n",
    "    return delta_v_FSR, l"
   ]
  },
  {
   "cell_type": "code",
   "execution_count": 105,
   "metadata": {},
   "outputs": [
    {
     "name": "stdout",
     "output_type": "stream",
     "text": [
      "l_zero = 23.57 mm\n",
      "l_side = 0.06 mm\n"
     ]
    }
   ],
   "source": [
    "buffer = 10\n",
    "\n",
    "delta_v_FSR_zero, l_zero = calc_v_FSR_l(v_dot_spectral_range_zero, buffer)\n",
    "delta_v_FSR_side, l_side = calc_v_FSR_l(v_dot_spectral_range_side, buffer)\n",
    "\n",
    "delta_E_FSR_zero = convert_Hz_to_eV(delta_v_FSR_zero)\n",
    "delta_E_FSR_side = convert_Hz_to_eV(delta_v_FSR_side)\n",
    "\n",
    "print(f\"l_zero = {l_zero * 10**3:.02f} mm\")\n",
    "print(f\"l_side = {l_side * 10**3:.02f} mm\")"
   ]
  },
  {
   "cell_type": "markdown",
   "metadata": {},
   "source": [
    " The FWHM linewidth $\\Delta \\nu_{\\rm Airy}$ of the Airy distribution is given by\n",
    "\n",
    "$$\\Delta \\nu_{\\rm Airy} = \\Delta \\nu_{\\rm FSR} \\frac{2}{\\pi} \\arcsin \\left( \\frac{1 - \\sqrt{R_1 R_2}}{2 \\sqrt[4]{R_1 R_2}} \\right)$$"
   ]
  },
  {
   "cell_type": "code",
   "execution_count": 106,
   "metadata": {},
   "outputs": [],
   "source": [
    "def calc_delta_v_Airy(delta_v_FSR, R_1, R_2):\n",
    "    return delta_v_FSR * 2 / np.pi * np.arcsin((1-np.sqrt(R_1*R_2))/(2*(R_1 * R_2)**(1/4)))"
   ]
  },
  {
   "cell_type": "code",
   "execution_count": 107,
   "metadata": {},
   "outputs": [
    {
     "name": "stdout",
     "output_type": "stream",
     "text": [
      "delta_E_Airy_zero = 0.26 µeV\n",
      "delta_E_Airy_side = 96.56 µeV\n"
     ]
    }
   ],
   "source": [
    "delta_v_Airy_zero = calc_delta_v_Airy(delta_v_FSR_zero, R_1, R_2)\n",
    "delta_v_Airy_side = calc_delta_v_Airy(delta_v_FSR_side, R_1, R_2)\n",
    "\n",
    "delta_E_Airy_zero = convert_Hz_to_eV(delta_v_Airy_zero)\n",
    "delta_E_Airy_side = convert_Hz_to_eV(delta_v_Airy_side)\n",
    "\n",
    "print(f\"delta_E_Airy_zero = {delta_E_Airy_zero * 10**6:.02f} µeV\")\n",
    "print(f\"delta_E_Airy_side = {delta_E_Airy_side * 10**6:.02f} µeV\")"
   ]
  },
  {
   "cell_type": "markdown",
   "metadata": {},
   "source": [
    "With Finesse\n",
    "\n",
    "$$F_{Airy} = \\frac{\\Delta \\nu_{FSR}}{\\Delta \\nu_{Airy}} = \\frac{\\pi}{2}\\left[\\arcsin \\left(\\frac{1-\\sqrt{R_1 R_2}}{2\\sqrt[4]{R_1 R_2}}\\right)\\right]^{-1}$$"
   ]
  },
  {
   "cell_type": "code",
   "execution_count": 108,
   "metadata": {},
   "outputs": [],
   "source": [
    "def calc_F_airy(R_1, R_2):\n",
    "    return constants.pi / 2 * np.arcsin((1 - np.sqrt(R_1 * R_2)) / (2 * (R_1 * R_2)**(1/4)))**(-1)"
   ]
  },
  {
   "cell_type": "code",
   "execution_count": 109,
   "metadata": {},
   "outputs": [
    {
     "name": "stdout",
     "output_type": "stream",
     "text": [
      "F_Airy = 103.13\n"
     ]
    }
   ],
   "source": [
    "print(f\"F_Airy = {calc_F_airy(R_1, R_2):.02f}\")"
   ]
  },
  {
   "cell_type": "markdown",
   "metadata": {},
   "source": [
    "$$A'_{trans}(\\nu)=\\frac{(1-R_1)(1-R_2)}{(1-\\sqrt{R_1R_2})^2+4\\sqrt{R_1R_2}\\sin^2(\\phi)}$$\n",
    "\n",
    "with\n",
    "\n",
    "$$\\phi_{fabry}(\\nu)=\\frac{\\pi\\nu}{\\Delta \\nu_{FSR}}$$"
   ]
  },
  {
   "cell_type": "code",
   "execution_count": 110,
   "metadata": {},
   "outputs": [],
   "source": [
    "def calc_phi_fabry(v, l):\n",
    "    return constants.pi * v * 2 * l / constants.c\n",
    "\n",
    "def A_prime_trans_v(v, R_1, R_2, l):\n",
    "    return (1-R_1) * (1-R_2) / ((1-np.sqrt(R_1*R_2))**2+4*np.sqrt(R_1*R_2)*np.sin(calc_phi_fabry(v,l))**2)\n",
    "\n",
    "def A_prime_trans_E(E_eV, R_1, R_2, l):\n",
    "    return A_prime_trans_v(convert_eV_to_Hz(E_eV), R_1, R_2, l)"
   ]
  },
  {
   "cell_type": "code",
   "execution_count": 111,
   "metadata": {},
   "outputs": [],
   "source": [
    "number_of_points = 40000\n",
    "number_of_airy_peaks = 4\n",
    "\n",
    "E_boundaries_zero = (E_dot_center_zero - delta_E_FSR_zero*number_of_airy_peaks/2,\n",
    "                     E_dot_center_zero + delta_E_FSR_zero*number_of_airy_peaks/2)\n",
    "E_boundaries_side = (E_dot_center_side - delta_E_FSR_side*number_of_airy_peaks/2,\n",
    "                     E_dot_center_side + delta_E_FSR_side*number_of_airy_peaks/2)\n",
    "\n",
    "E_zero = np.linspace(*E_boundaries_zero, number_of_points)\n",
    "E_side = np.linspace(*E_boundaries_side, number_of_points)\n",
    "\n",
    "phi_dot_zero = calc_phi_dot_E(E_zero, lambda_dot_center_zero, lambda_dot_spectral_range_zero, lambda_dot_center_side, lambda_dot_spectral_range_side)\n",
    "phi_dot_side = calc_phi_dot_E(E_side,lambda_dot_center_zero, lambda_dot_spectral_range_zero, lambda_dot_center_side, lambda_dot_spectral_range_side)"
   ]
  },
  {
   "cell_type": "code",
   "execution_count": 119,
   "metadata": {},
   "outputs": [
    {
     "data": {
      "image/png": "[encoded data removed]",
      "text/plain": [
       "<Figure size 1240x440 with 4 Axes>"
      ]
     },
     "metadata": {
      "needs_background": "light"
     },
     "output_type": "display_data"
    }
   ],
   "source": [
    "fig, (ax1_thin, ax1_broad) = plt.subplots(1, 2)\n",
    "\n",
    "ax1_thin.plot(E_zero, A_prime_trans_E(E_zero, R_1, R_2, l_zero), \"b\", label=\"Transmission Fabry Perot\")\n",
    "#ax1_thin.set_xlim(E_boundaries_side)\n",
    "ax1_thin.set_xlabel(r\"$E$ (eV)\")\n",
    "ax1_thin.set_ylabel(\"Transmission response function\", color=\"b\")\n",
    "ax1_thin.locator_params(nbins=4)\n",
    "ax1_thin.ticklabel_format(useOffset=False)\n",
    "ax1_thin.tick_params(\"y\", colors=\"b\")\n",
    "ax1_thin.set_title(f\"Thin emission spectrum \\n l_zero = {l_zero * 10**3:.02f} mm\")\n",
    "\n",
    "ax2_thin = ax1_thin.twinx()\n",
    "ax2_thin.semilogy(E_zero, phi_dot_zero, \"r\", label=r\"$\\Phi_{dot}(\\nu)$\")\n",
    "ax2_thin.set_ylabel(\"Dot emission\", color=\"r\")\n",
    "ax2_thin.set_ylim(10**10, 10**14)\n",
    "ax2_thin.tick_params(\"y\", colors=\"r\")\n",
    "\n",
    "ax1_broad.plot(E_side, A_prime_trans_E(E_side, R_1, R_2, l_side), \"b\", label=\"Transmission Fabry Perot\")\n",
    "#ax1_broad.set_xlim(E_boundaries_side)\n",
    "ax1_broad.set_xlabel(r\"$E$ (eV)\")\n",
    "ax1_broad.set_ylabel(\"Transmission response function\", color=\"b\")\n",
    "ax1_broad.tick_params(\"y\", colors=\"b\")\n",
    "ax1_broad.set_title(f\"Broad emission spectrum \\n l_side = {l_side * 10**3:.02f} mm\")\n",
    "\n",
    "ax2_broad = ax1_broad.twinx()\n",
    "ax2_broad.semilogy(E_side, phi_dot_side, \"r\", label=r\"$\\Phi_{dot}(\\nu)$\")\n",
    "ax2_broad.set_ylabel(\"Dot emission\", color=\"r\")\n",
    "ax2_broad.tick_params(\"y\", colors=\"r\")\n",
    "\n",
    "fig.tight_layout()\n",
    "fig.savefig(FIGURE_PATH / \"simulation-comparison-dot-fabry-perot-modes.pdf\")"
   ]
  },
  {
   "cell_type": "markdown",
   "metadata": {},
   "source": [
    "The output-photon-flux of the scanning Fabry-Perot-interferometer is described with the convolution of the emission of the QD $E_{dot}(\\nu)$ and the transmission of the Fabry-perot $A'_{trans}(\\nu)$.\n",
    "\n",
    "$$\\Phi_{fabry,perot, unnormalized} = \\int^{v\\_dot\\_center + \\Delta \\nu_{FSR} \\cdot number\\_of\\_airy\\_peaks}_{v\\_dot\\_center - \\Delta \\nu_{FSR} \\cdot number\\_of\\_airy\\_peaks} d\\nu' E_{dot}(\\nu')A'_{trans}(\\nu - \\nu')$$\n",
    "\n",
    "it can then be normalized with the integral of $A'_{trans}(\\nu)$ over one period:\n",
    "\n",
    "$$normalization\\_factor = \\int^{v\\_dot\\_center + \\Delta \\nu_{FSR} \\cdot number\\_of\\_airy\\_peaks \\cdot 0.5}_{v\\_dot\\_center - \\Delta \\nu_{FSR} \\cdot number\\_of\\_airy\\_peaks \\cdot 0.5} d\\nu A'_{trans}(\\nu) = \\frac{\\sum A'_{trans}(\\nu)}{number\\_of\\_airy\\_peaks} $$\n",
    "\n",
    "Therefore the output-photon-flux of the scanning Fabry-Perot-interferometer is:\n",
    "$$\\Rightarrow \\Phi_{fabry,perot} = \\frac{\\Phi_{fabry,perot, unnormalized}}{normalization\\_factor}$$"
   ]
  },
  {
   "cell_type": "code",
   "execution_count": 113,
   "metadata": {},
   "outputs": [],
   "source": [
    "def calc_phi_fabry_perot(V, v_dot_center, v_dot_spectral_range, R_1, R_2, l, delta_v_FSR, number_of_airy_peaks):\n",
    "    phi_fabry_perot_unnormalized = signal.convolve(calc_phi_dot(V, v_dot_center, v_dot_spectral_range), A_prime_trans(V, R_1, R_2, l))\n",
    "    normalization_factor = sum(A_prime_trans(V, R_1, R_2, l)) / number_of_airy_peaks\n",
    "    phi_fabry_perot = phi_fabry_perot_unnormalized / normalization_factor\n",
    "\n",
    "    v_conv_boundaries = (v_dot_center - delta_v_FSR*number_of_airy_peaks, v_dot_center + delta_v_FSR*number_of_airy_peaks)\n",
    "    V_2 = np.linspace(*v_conv_boundaries, number_of_points*2-1)\n",
    "    \n",
    "    return  V_2, phi_fabry_perot"
   ]
  },
  {
   "cell_type": "code",
   "execution_count": 114,
   "metadata": {},
   "outputs": [
    {
     "ename": "NameError",
     "evalue": "name 'V_thin' is not defined",
     "output_type": "error",
     "traceback": [
      "\u001b[1;31m---------------------------------------------------------------------------\u001b[0m",
      "\u001b[1;31mNameError\u001b[0m                                 Traceback (most recent call last)",
      "\u001b[1;32m<ipython-input-114-ef6fa994df83>\u001b[0m in \u001b[0;36m<module>\u001b[1;34m()\u001b[0m\n\u001b[1;32m----> 1\u001b[1;33m \u001b[0mV_2_thin\u001b[0m\u001b[1;33m,\u001b[0m \u001b[0mphi_fabry_perot_thin\u001b[0m \u001b[1;33m=\u001b[0m \u001b[0mcalc_phi_fabry_perot\u001b[0m\u001b[1;33m(\u001b[0m\u001b[0mV_thin\u001b[0m\u001b[1;33m,\u001b[0m \u001b[0mv_dot_center\u001b[0m\u001b[1;33m,\u001b[0m \u001b[0mv_dot_spectral_range_thin\u001b[0m\u001b[1;33m,\u001b[0m \u001b[0mR_1\u001b[0m\u001b[1;33m,\u001b[0m \u001b[0mR_2\u001b[0m\u001b[1;33m,\u001b[0m \u001b[0ml_thin\u001b[0m\u001b[1;33m,\u001b[0m \u001b[0mdelta_v_FSR_thin\u001b[0m\u001b[1;33m,\u001b[0m \u001b[0mnumber_of_airy_peaks\u001b[0m\u001b[1;33m)\u001b[0m\u001b[1;33m\u001b[0m\u001b[0m\n\u001b[0m\u001b[0;32m      2\u001b[0m \u001b[0mV_2_broad\u001b[0m\u001b[1;33m,\u001b[0m \u001b[0mphi_fabry_perot_broad\u001b[0m \u001b[1;33m=\u001b[0m \u001b[0mcalc_phi_fabry_perot\u001b[0m\u001b[1;33m(\u001b[0m\u001b[0mV_broad\u001b[0m\u001b[1;33m,\u001b[0m \u001b[0mv_dot_center\u001b[0m\u001b[1;33m,\u001b[0m \u001b[0mv_dot_spectral_range_broad\u001b[0m\u001b[1;33m,\u001b[0m \u001b[0mR_1\u001b[0m\u001b[1;33m,\u001b[0m \u001b[0mR_2\u001b[0m\u001b[1;33m,\u001b[0m \u001b[0ml_broad\u001b[0m\u001b[1;33m,\u001b[0m \u001b[0mdelta_v_FSR_broad\u001b[0m\u001b[1;33m,\u001b[0m \u001b[0mnumber_of_airy_peaks\u001b[0m\u001b[1;33m)\u001b[0m\u001b[1;33m\u001b[0m\u001b[0m\n",
      "\u001b[1;31mNameError\u001b[0m: name 'V_thin' is not defined"
     ]
    }
   ],
   "source": [
    "V_2_thin, phi_fabry_perot_thin = calc_phi_fabry_perot(V_thin, v_dot_center, v_dot_spectral_range_thin, R_1, R_2, l_thin, delta_v_FSR_thin, number_of_airy_peaks)\n",
    "V_2_broad, phi_fabry_perot_broad = calc_phi_fabry_perot(V_broad, v_dot_center, v_dot_spectral_range_broad, R_1, R_2, l_broad, delta_v_FSR_broad, number_of_airy_peaks)"
   ]
  },
  {
   "cell_type": "code",
   "execution_count": null,
   "metadata": {},
   "outputs": [],
   "source": [
    "plt.subplot(1, 2, 1)\n",
    "plt.plot(convert_Hz_to_eV(V_2_thin), phi_fabry_perot_thin, \"b\", label=r\"$\\Phi_{fabry,perot}(\\nu)$\")\n",
    "plt.plot(convert_Hz_to_eV(V_thin), phi_dot_thin, \"r\" , label=r\"$\\Phi_{dot}(\\nu)$\")\n",
    "plt.xlabel(r\"$E$ (eV)\")\n",
    "plt.xlim(E_boundaries_broad)\n",
    "plt.legend()\n",
    "plt.title(f\"Thin emission spectrum \\n l_thin = {l_thin * 10**3:.02f} mm\")\n",
    "\n",
    "plt.subplot(1, 2, 2)\n",
    "plt.plot(convert_Hz_to_eV(V_2_broad), phi_fabry_perot_broad, \"b\", label=r\"$\\Phi_{fabry,perot}(\\nu)$\")\n",
    "plt.plot(convert_Hz_to_eV(V_broad), phi_dot_broad, \"r\" , label=r\"$\\Phi_{dot}(\\nu)$\")\n",
    "plt.xlabel(r\"$E$ (eV)\")\n",
    "plt.xlim(E_boundaries_broad)\n",
    "plt.legend()\n",
    "plt.title(f\"Broad emission spectrum \\n l_broad = {l_broad * 10**3:.02f} mm\")\n",
    "\n",
    "plt.show()"
   ]
  },
  {
   "cell_type": "markdown",
   "metadata": {},
   "source": [
    "To better compare $\\Phi_{dot}(\\nu)$ and $\\Phi_{fabry,perot}$, we need to shift them relative to each other:"
   ]
  },
  {
   "cell_type": "code",
   "execution_count": null,
   "metadata": {},
   "outputs": [],
   "source": [
    "def shift_phi_fabry_perot(phi_fabry_perot, V, V_2, phi_dot):\n",
    "    position_V_dot_peak = signal.find_peaks(phi_dot)[0][0]\n",
    "    position_airy_peaks = signal.find_peaks(phi_fabry_perot)[0]\n",
    "    \n",
    "    position_dot_peak = (np.abs(V_2 - V[position_V_dot_peak])).argmin()\n",
    "    position_closest_airy_peak = position_airy_peaks[(np.abs(V_2[position_airy_peaks] - V[position_V_dot_peak])).argmin()]    \n",
    "    phi_fabry_perot_shifted = np.roll(phi_fabry_perot, position_dot_peak - position_closest_airy_peak)\n",
    "    return phi_fabry_perot_shifted, position_dot_peak, position_V_dot_peak"
   ]
  },
  {
   "cell_type": "code",
   "execution_count": null,
   "metadata": {},
   "outputs": [],
   "source": [
    "phi_fabry_perot_shifted_thin, position_closest_airy_peak_thin, position_dot_peak_thin  = shift_phi_fabry_perot(phi_fabry_perot_thin, V_thin, V_2_thin, phi_dot_thin)\n",
    "phi_fabry_perot_shifted_broad, position_closest_airy_peak_broad, position_dot_peak_broad = shift_phi_fabry_perot(phi_fabry_perot_broad, V_broad, V_2_broad, phi_dot_broad)"
   ]
  },
  {
   "cell_type": "code",
   "execution_count": null,
   "metadata": {},
   "outputs": [],
   "source": [
    "plt.figure()\n",
    "\n",
    "plt.subplot(1, 2, 1)\n",
    "plt.plot(convert_Hz_to_eV(V_2_thin), phi_fabry_perot_shifted_thin, \"b\", label=r\"$\\Phi_{fabry,perot}(\\nu)$\")\n",
    "plt.plot(convert_Hz_to_eV(V_thin), phi_dot_thin, \"r\" , label=r\"$\\Phi_{dot}(\\nu)$\")\n",
    "plt.xlabel(r\"$E$ (eV)\")\n",
    "plt.xlim(E_boundaries_broad)\n",
    "plt.legend()\n",
    "plt.title(f\"Thin emission spectrum \\n l_thin = {l_thin * 10**3:.02f} mm\")\n",
    "\n",
    "plt.subplot(1, 2, 2)\n",
    "plt.plot(convert_Hz_to_eV(V_2_broad), phi_fabry_perot_shifted_broad, \"b\", label=r\"$\\Phi_{fabry,perot}(\\nu)$\")\n",
    "plt.plot(convert_Hz_to_eV(V_broad), phi_dot_broad, \"r\" , label=r\"$\\Phi_{dot}(\\nu)$\")\n",
    "plt.xlabel(r\"$E$ (eV)\")\n",
    "plt.xlim(E_boundaries_broad)\n",
    "plt.legend()\n",
    "plt.title(f\"Broad emission spectrum \\n l_broad = {l_broad * 10**3:.02f} mm\")\n",
    "\n",
    "\n",
    "plt.show()"
   ]
  },
  {
   "cell_type": "markdown",
   "metadata": {},
   "source": [
    "## Calculating Error:\n",
    "\n",
    "$$ Error = \\frac{\\int^{v\\_dot\\_center + \\Delta \\nu_{FSR} \\cdot 0.5}_{v\\_dot\\_center - \\Delta \\nu_{FSR} \\cdot 0.5} \\left|\\Phi_{\\text{fabry,perot,shifted}}(\\nu) - \\Phi_{\\text{dot}}(\\nu)\\right| d \\nu }{\\int^{v\\_dot\\_center + \\Delta \\nu_{FSR} \\cdot 0.5}_{v\\_dot\\_center - \\Delta \\nu_{FSR} \\cdot 0.5} \\Phi_{\\text{dot}}(\\nu) d \\nu}$$\n",
    "\n",
    "In terms of indices of V_2 this is equal to boundaries of (number_of_points / number_of_airy_peaks) around the peak of the dot."
   ]
  },
  {
   "cell_type": "code",
   "execution_count": null,
   "metadata": {},
   "outputs": [],
   "source": [
    "def calc_error(phi_fabry_perot_shifted, phi_dot, position_closest_airy_peak, position_dot_peak,  number_of_points, number_of_airy_peaks):\n",
    "    range_ = (-int(number_of_points / number_of_airy_peaks / 2), int(number_of_points / number_of_airy_peaks / 2))\n",
    "    boundaries_fabry_perot = position_closest_airy_peak + range_\n",
    "    boundaries_dot = position_dot_peak + range_\n",
    "    numerator = np.abs(phi_fabry_perot_shifted[slice(*boundaries_fabry_perot)] - phi_dot[slice(*boundaries_dot)])\n",
    "    denominator = phi_dot[slice(*boundaries_dot)]\n",
    "    return numerator, denominator, boundaries_fabry_perot, boundaries_dot"
   ]
  },
  {
   "cell_type": "code",
   "execution_count": null,
   "metadata": {},
   "outputs": [],
   "source": [
    "numerator_thin, denominator_thin, boundaries_fabry_perot_thin, boundaries_dot_thin  = calc_error(phi_fabry_perot_shifted_thin, phi_dot_thin, position_closest_airy_peak_thin, position_dot_peak_thin, number_of_points, number_of_airy_peaks)\n",
    "numerator_broad, denominator_broad, boundaries_fabry_perot_broad, boundaries_dot_broad = calc_error(phi_fabry_perot_shifted_broad, phi_dot_broad, position_closest_airy_peak_broad, position_dot_peak_broad, number_of_points, number_of_airy_peaks)\n",
    "\n",
    "error_thin = np.sum(numerator_thin) / np.sum(denominator_thin)\n",
    "error_broad = np.sum(numerator_broad) / np.sum(denominator_broad)"
   ]
  },
  {
   "cell_type": "code",
   "execution_count": null,
   "metadata": {},
   "outputs": [],
   "source": [
    "print(f\"Error for thin end of the width of the emission spectrum: {error_thin:.2%}\")\n",
    "print(f\"Error for broad end of the width of the emission spectrum: {error_broad:.2%}\")"
   ]
  },
  {
   "cell_type": "code",
   "execution_count": null,
   "metadata": {
    "scrolled": true
   },
   "outputs": [],
   "source": [
    "plt.figure()\n",
    "\n",
    "plt.subplot(1, 2, 1)\n",
    "plt.plot(convert_Hz_to_eV(V_2_thin[slice(*boundaries_fabry_perot_thin)]), phi_fabry_perot_shifted_thin[slice(*boundaries_fabry_perot_thin)], \"b\", label=r\"$\\Phi_{fabry,perot}(\\nu)$\")\n",
    "plt.plot(convert_Hz_to_eV(V_thin[slice(*boundaries_dot_thin)]), phi_dot_thin[slice(*boundaries_dot_thin)], \"r\" , label=r\"$\\Phi_{dot}(\\nu)$\")\n",
    "plt.plot(convert_Hz_to_eV(V_thin[slice(*boundaries_dot_thin)]), numerator_thin, label=r\"$|\\Phi_{dot}(\\nu) - \\Phi_{fabry,perot}(\\nu)|$\")\n",
    "plt.xlabel(r\"$E$ (eV)\")\n",
    "plt.legend()\n",
    "plt.xlim(convert_Hz_to_eV(min(V_broad[slice(*boundaries_dot_broad)])), convert_Hz_to_eV(max(V_broad[slice(*boundaries_dot_broad)])))\n",
    "plt.title(f\"Thin emission spectrum \\n l_thin = {l_thin * 10**3:.02f} mm\")\n",
    "\n",
    "plt.subplot(1, 2, 2)\n",
    "plt.plot(convert_Hz_to_eV(V_2_broad[slice(*boundaries_fabry_perot_broad)]), phi_fabry_perot_shifted_broad[slice(*boundaries_fabry_perot_broad)], \"b\", label=r\"$\\Phi_{fabry,perot}(\\nu)$\")\n",
    "plt.plot(convert_Hz_to_eV(V_broad[slice(*boundaries_dot_broad)]), phi_dot_broad[slice(*boundaries_dot_broad)], \"r\" , label=r\"$\\Phi_{dot}(\\nu)$\")\n",
    "plt.plot(convert_Hz_to_eV(V_broad[slice(*boundaries_dot_broad)]), numerator_broad, label=r\"$|\\Phi_{dot}(\\nu) - \\Phi_{fabry,perot}(\\nu)|$\")\n",
    "plt.xlabel(r\"$E$ (eV)\")\n",
    "plt.legend()\n",
    "plt.xlim(convert_Hz_to_eV(min(V_broad[slice(*boundaries_dot_broad)])), convert_Hz_to_eV(max(V_broad[slice(*boundaries_dot_broad)])))\n",
    "plt.title(f\"Broad emission spectrum \\n l_broad = {l_broad * 10**3:.02f} mm\")\n",
    "\n",
    "\n",
    "plt.show()"
   ]
  },
  {
   "cell_type": "markdown",
   "metadata": {},
   "source": [
    "## Thermal drift:"
   ]
  },
  {
   "cell_type": "markdown",
   "metadata": {},
   "source": [
    "### 1) How much does the phase shift with a change of the length between the mirrors $l$?\n",
    "Investigate case for lower limit of central frequency and upper limit of central frequency"
   ]
  },
  {
   "cell_type": "code",
   "execution_count": null,
   "metadata": {},
   "outputs": [],
   "source": [
    "v_dot_center_lower = 3.33 * 10**14 # in Hz\n",
    "v_dot_center_upper = 5.00 * 10**14 # in Hz"
   ]
  },
  {
   "cell_type": "code",
   "execution_count": null,
   "metadata": {},
   "outputs": [],
   "source": [
    "number_of_points = 8000"
   ]
  },
  {
   "cell_type": "code",
   "execution_count": null,
   "metadata": {},
   "outputs": [],
   "source": [
    "v_boundaries_lower_thin = (v_dot_center_lower - delta_v_FSR_thin*number_of_airy_peaks/2, v_dot_center_lower + delta_v_FSR_thin*number_of_airy_peaks/2)\n",
    "v_boundaries_upper_thin = (v_dot_center_upper - delta_v_FSR_thin*number_of_airy_peaks/2, v_dot_center_upper + delta_v_FSR_thin*number_of_airy_peaks/2)\n",
    "\n",
    "v_boundaries_lower_broad = (v_dot_center_lower - delta_v_FSR_broad*number_of_airy_peaks/2, v_dot_center_lower + delta_v_FSR_broad*number_of_airy_peaks/2)\n",
    "v_boundaries_upper_broad = (v_dot_center_upper - delta_v_FSR_broad*number_of_airy_peaks/2, v_dot_center_upper + delta_v_FSR_broad*number_of_airy_peaks/2)\n",
    "\n",
    "V_lower_thin = np.linspace(*v_boundaries_lower_thin, number_of_points)\n",
    "V_upper_thin = np.linspace(*v_boundaries_upper_thin, number_of_points)\n",
    "\n",
    "V_lower_broad = np.linspace(*v_boundaries_lower_broad, number_of_points)\n",
    "V_upper_broad = np.linspace(*v_boundaries_upper_broad, number_of_points)"
   ]
  },
  {
   "cell_type": "code",
   "execution_count": null,
   "metadata": {},
   "outputs": [],
   "source": [
    "l_range_lower_thin = np.linspace(0.99, 1, 300) * l_thin\n",
    "l_range_upper_thin = np.linspace(0.99, 1, 300) * l_thin\n",
    "\n",
    "l_range_lower_broad = np.linspace(0.99, 1, 300) * l_broad\n",
    "l_range_upper_broad = np.linspace(0.99, 1, 300) * l_broad\n",
    "\n"
   ]
  },
  {
   "cell_type": "code",
   "execution_count": null,
   "metadata": {},
   "outputs": [],
   "source": [
    "peak_position_lower_thin = np.array([signal.find_peaks(A_prime_trans(V_lower_thin, R_1, R_2, l))[0][0] for l in l_range_lower_thin])\n",
    "peak_position_upper_thin = np.array([signal.find_peaks(A_prime_trans(V_upper_thin, R_1, R_2, l))[0][0] for l in l_range_upper_thin])\n",
    "\n",
    "peak_position_lower_broad = np.array([signal.find_peaks(A_prime_trans(V_lower_broad, R_1, R_2, l))[0][0] for l in l_range_lower_broad])\n",
    "peak_position_upper_broad = np.array([signal.find_peaks(A_prime_trans(V_upper_broad, R_1, R_2, l))[0][0] for l in l_range_upper_broad])"
   ]
  },
  {
   "cell_type": "markdown",
   "metadata": {},
   "source": [
    "Pick out the first to peaks to determine sweep range over the free spectral range:"
   ]
  },
  {
   "cell_type": "code",
   "execution_count": null,
   "metadata": {},
   "outputs": [],
   "source": [
    "sweep_boundaries_lower_thin = signal.find_peaks(peak_position_lower_thin)[0][0:2]\n",
    "sweep_boundaries_upper_thin = signal.find_peaks(peak_position_upper_thin)[0][0:2]\n",
    "\n",
    "sweep_boundaries_lower_broad = signal.find_peaks(peak_position_lower_broad)[0][0:2]\n",
    "sweep_boundaries_upper_broad = signal.find_peaks(peak_position_upper_broad)[0][0:2]"
   ]
  },
  {
   "cell_type": "code",
   "execution_count": null,
   "metadata": {},
   "outputs": [],
   "source": [
    "l_sweep_range_lower_thin = l_range_lower_thin[slice(*sweep_boundaries_lower_thin)]\n",
    "l_sweep_range_upper_thin = l_range_upper_thin[slice(*sweep_boundaries_upper_thin)]\n",
    "\n",
    "l_sweep_range_lower_broad = l_range_lower_broad[slice(*sweep_boundaries_lower_broad)]\n",
    "l_sweep_range_upper_broad = l_range_upper_broad[slice(*sweep_boundaries_upper_broad)]"
   ]
  },
  {
   "cell_type": "code",
   "execution_count": null,
   "metadata": {},
   "outputs": [],
   "source": [
    "sweep_range_lower_thin = V_lower_thin[peak_position_lower_thin[slice(*sweep_boundaries_lower_thin)]]\n",
    "sweep_range_upper_thin = V_upper_thin[peak_position_upper_thin[slice(*sweep_boundaries_upper_thin)]]\n",
    "\n",
    "sweep_range_lower_broad = V_lower_broad[peak_position_lower_broad[slice(*sweep_boundaries_lower_broad)]]\n",
    "sweep_range_upper_broad = V_upper_broad[peak_position_upper_broad[slice(*sweep_boundaries_upper_broad)]]"
   ]
  },
  {
   "cell_type": "code",
   "execution_count": null,
   "metadata": {},
   "outputs": [],
   "source": [
    "plt.figure(figsize=(18, 12))\n",
    "plt.subplot(2, 2, 1)\n",
    "plt.plot(l_sweep_range_lower_thin, sweep_range_lower_thin)\n",
    "plt.xlabel(r\"$l$\")\n",
    "plt.title(\"Peak shift for upper limit of thin central frequency\")\n",
    "\n",
    "plt.subplot(2, 2, 2)\n",
    "plt.plot(l_sweep_range_upper_thin, sweep_range_upper_thin)\n",
    "plt.xlabel(r\"$l$\")\n",
    "plt.title(\"Peak shift for upper limit of thin central frequency\")\n",
    "\n",
    "plt.subplot(2, 2, 3)\n",
    "plt.plot(l_sweep_range_lower_broad, sweep_range_lower_broad)\n",
    "plt.xlabel(r\"$l$\")\n",
    "plt.title(\"Peak shift for upper limit of broad central frequency\")\n",
    "\n",
    "plt.subplot(2, 2, 4)\n",
    "plt.plot(l_sweep_range_upper_broad, sweep_range_upper_broad)\n",
    "plt.xlabel(r\"$l$\")\n",
    "plt.title(\"Peak shift for upper limit of broad central frequency\")\n",
    "plt.show()"
   ]
  },
  {
   "cell_type": "markdown",
   "metadata": {},
   "source": [
    "### 2) Calculate $\\frac{d\\nu}{dl}$"
   ]
  },
  {
   "cell_type": "code",
   "execution_count": null,
   "metadata": {},
   "outputs": [],
   "source": [
    "l_sweep_distance_lower_thin = l_sweep_range_lower_thin[-1] - l_sweep_range_lower_thin[0]\n",
    "l_sweep_distance_upper_thin = l_sweep_range_upper_thin[-1] - l_sweep_range_upper_thin[0]\n",
    "\n",
    "l_sweep_distance_lower_broad = l_sweep_range_lower_broad[-1] - l_sweep_range_lower_broad[0]\n",
    "l_sweep_distance_upper_broad = l_sweep_range_upper_broad[-1] - l_sweep_range_upper_broad[0]"
   ]
  },
  {
   "cell_type": "code",
   "execution_count": null,
   "metadata": {},
   "outputs": [],
   "source": [
    "print(f\"l_sweep_lower_thin:  {l_sweep_distance_lower_thin * 10**9:.02f} nm\")\n",
    "print(f\"l_sweep_upper_thin:  {l_sweep_distance_upper_thin * 10**9:.02f} nm\")\n",
    "print(f\"l_sweep_lower_broad: {l_sweep_distance_lower_broad * 10**9:.02f} nm\")\n",
    "print(f\"l_sweep_upper_broad: {l_sweep_distance_upper_broad * 10**9:.02f} nm\")"
   ]
  },
  {
   "cell_type": "code",
   "execution_count": null,
   "metadata": {},
   "outputs": [],
   "source": [
    "dv_dl_lower_thin = (sweep_range_lower_thin[-1] - sweep_range_lower_thin[0])/(l_sweep_distance_lower_thin)\n",
    "dv_dl_upper_thin = (sweep_range_upper_thin[-1] - sweep_range_upper_thin[0])/(l_sweep_distance_upper_thin)\n",
    "\n",
    "dv_dl_lower_broad = (sweep_range_lower_broad[-1] - sweep_range_lower_broad[0])/(l_sweep_distance_lower_broad)\n",
    "dv_dl_upper_broad = (sweep_range_upper_broad[-1] - sweep_range_upper_broad[0])/(l_sweep_distance_upper_broad)"
   ]
  },
  {
   "cell_type": "code",
   "execution_count": null,
   "metadata": {},
   "outputs": [],
   "source": [
    "print(f\"dv_dl_lower_thin: {dv_dl_lower_thin:.02} Hz/m\")\n",
    "print(f\"dv_dl_upper_thin: {dv_dl_upper_thin:.02} Hz/m\")\n",
    "print(f\"dv_dl_lower_broad: {dv_dl_lower_broad:.02} Hz/m\")\n",
    "print(f\"dv_dl_upper_broad: {dv_dl_upper_broad:.02} Hz/m\")"
   ]
  },
  {
   "cell_type": "code",
   "execution_count": null,
   "metadata": {},
   "outputs": [],
   "source": [
    "print(f\"relative_error_lower_thin: {dv_dl_lower_thin / delta_v_FSR_thin * 10**(-9):.02%} /nm\")\n",
    "print(f\"relative_error_upper_thin: {dv_dl_upper_thin / delta_v_FSR_thin * 10**(-9):.02%} /nm\")\n",
    "print(f\"relative_error_lower_broad: {dv_dl_lower_broad / delta_v_FSR_broad * 10**(-9):.02%} /nm\")\n",
    "print(f\"relative_error_upper_broad: {dv_dl_upper_broad / delta_v_FSR_broad * 10**(-9):.02%} /nm\")"
   ]
  },
  {
   "cell_type": "markdown",
   "metadata": {},
   "source": [
    "$\\Rightarrow$ relative error and l_sweep depend only on the central wavelength"
   ]
  },
  {
   "cell_type": "code",
   "execution_count": null,
   "metadata": {},
   "outputs": [],
   "source": []
  }
 ],
 "metadata": {
  "kernelspec": {
   "display_name": "Python 3",
   "language": "python",
   "name": "python3"
  },
  "language_info": {
   "codemirror_mode": {
    "name": "ipython",
    "version": 3
   },
   "file_extension": ".py",
   "mimetype": "text/x-python",
   "name": "python",
   "nbconvert_exporter": "python",
   "pygments_lexer": "ipython3",
   "version": "3.7.0"
  }
 },
 "nbformat": 4,
 "nbformat_minor": 2
}
